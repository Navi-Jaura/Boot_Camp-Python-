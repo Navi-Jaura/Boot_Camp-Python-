{
 "cells": [
  {
   "cell_type": "code",
   "execution_count": null,
   "id": "0a0e66f1",
   "metadata": {},
   "outputs": [],
   "source": [
    "a=int(input(\"Enter A Value: \"))\n",
    "b=int(input(\"Enter B Value: \"))\n",
    "c=int(input(\"Enter C Value: \"))\n",
    "d=int(input(\"Enter D Value: \"))\n",
    "\n",
    "minimum=min(a,b,c,d)\n",
    "\n",
    "print(minimum)"
   ]
  },
  {
   "cell_type": "code",
   "execution_count": null,
   "id": "285e1478",
   "metadata": {},
   "outputs": [],
   "source": [
    "a=int(input(\"Enter A Value: \"))\n",
    "b=int(input(\"Enter B Value: \"))\n",
    "c=int(input(\"Enter C Value: \"))\n",
    "\n",
    "if a<b and a<c:\n",
    "    print(\"A is Min\",a)\n",
    "elif b<a and b<c:\n",
    "    print(\"b is Min\",b)\n",
    "else:\n",
    "    print(\"C is Min\",c)"
   ]
  },
  {
   "cell_type": "markdown",
   "id": "143c5d69",
   "metadata": {},
   "source": [
    "# Armstrong"
   ]
  },
  {
   "cell_type": "code",
   "execution_count": null,
   "id": "5442c918",
   "metadata": {},
   "outputs": [],
   "source": [
    "n=153\n",
    "original=n\n",
    "sum=0\n",
    "while(n>0):\n",
    "    sum=sum+(n%10)*(n%10)*(n%10)\n",
    "    n=n//10 \n",
    "if original==sum:\n",
    "    print(\"Armstrong Number\")\n",
    "else:\n",
    "    print(\"Not Armstrong\")"
   ]
  },
  {
   "cell_type": "markdown",
   "id": "0595550b",
   "metadata": {},
   "source": [
    "# Square Root"
   ]
  },
  {
   "cell_type": "code",
   "execution_count": null,
   "id": "e528bc5b",
   "metadata": {},
   "outputs": [],
   "source": [
    "n=int(input())\n",
    "original=n\n",
    "sum=0\n",
    "while(n>0):\n",
    "    sum=sum+(n%10)*(n%10)\n",
    "    n=n//10 \n",
    "    \n",
    "print(sum)"
   ]
  },
  {
   "cell_type": "code",
   "execution_count": 6,
   "id": "7fcbe04c",
   "metadata": {},
   "outputs": [
    {
     "name": "stdout",
     "output_type": "stream",
     "text": [
      "volume: 9.749699999999999\n",
      "5 Liter Cost: 2242.4309999999996\n"
     ]
    }
   ],
   "source": [
    "# a=int(input())\n",
    "# b=int(input())\n",
    "r=3\n",
    "h=345\n",
    "vol=3.14*r*r*h/1000\n",
    "print(\"volume:\",vol)\n",
    "cost=230\n",
    "calc=vol*cost\n",
    "print(\"5 Liter Cost:\",calc)"
   ]
  },
  {
   "cell_type": "code",
   "execution_count": 3,
   "id": "de49dd77",
   "metadata": {},
   "outputs": [
    {
     "name": "stdout",
     "output_type": "stream",
     "text": [
      "2244471.428571428\n"
     ]
    }
   ],
   "source": [
    "r=3\n",
    "h=345\n",
    "vol=22/7*r*r*h\n",
    "cost=230\n",
    "calc=vol*cost\n",
    "print(calc)"
   ]
  },
  {
   "cell_type": "code",
   "execution_count": 7,
   "id": "0f004c9f",
   "metadata": {},
   "outputs": [],
   "source": [
    "# find out sum of square 1 to 50 natural number."
   ]
  },
  {
   "cell_type": "code",
   "execution_count": 16,
   "id": "ddcda6d5",
   "metadata": {},
   "outputs": [
    {
     "ename": "TypeError",
     "evalue": "unsupported operand type(s) for +: 'builtin_function_or_method' and 'int'",
     "output_type": "error",
     "traceback": [
      "\u001b[1;31m---------------------------------------------------------------------------\u001b[0m",
      "\u001b[1;31mTypeError\u001b[0m                                 Traceback (most recent call last)",
      "Cell \u001b[1;32mIn[16], line 3\u001b[0m\n\u001b[0;32m      1\u001b[0m \u001b[38;5;28;01mfor\u001b[39;00m i \u001b[38;5;129;01min\u001b[39;00m \u001b[38;5;28mrange\u001b[39m(\u001b[38;5;241m1\u001b[39m,\u001b[38;5;241m16\u001b[39m):\n\u001b[0;32m      2\u001b[0m     \u001b[38;5;28;01mif\u001b[39;00m i\u001b[38;5;241m%\u001b[39m\u001b[38;5;241m2\u001b[39m\u001b[38;5;241m==\u001b[39m\u001b[38;5;241m0\u001b[39m:\n\u001b[1;32m----> 3\u001b[0m         \u001b[38;5;28msum\u001b[39m\u001b[38;5;241m=\u001b[39m\u001b[38;5;28;43msum\u001b[39;49m\u001b[38;5;241;43m+\u001b[39;49m\u001b[43mi\u001b[49m\u001b[38;5;241;43m*\u001b[39;49m\u001b[38;5;241;43m*\u001b[39;49m\u001b[38;5;241;43m2\u001b[39;49m\n\u001b[0;32m      4\u001b[0m         \u001b[38;5;28mprint\u001b[39m(i)\n",
      "\u001b[1;31mTypeError\u001b[0m: unsupported operand type(s) for +: 'builtin_function_or_method' and 'int'"
     ]
    }
   ],
   "source": [
    "for i in range(1,16):\n",
    "    if i%2==0:\n",
    "        sum=sum+i**2\n",
    "        print(i)"
   ]
  },
  {
   "cell_type": "code",
   "execution_count": 19,
   "id": "625dd679",
   "metadata": {},
   "outputs": [
    {
     "name": "stdout",
     "output_type": "stream",
     "text": [
      "Enter a number: 25\n",
      "5.0\n"
     ]
    }
   ],
   "source": [
    "\n",
    "num = float(input('Enter a number: '))\n",
    "\n",
    "num_sqrt = num ** 0.5\n",
    "print(num_sqrt)"
   ]
  },
  {
   "cell_type": "code",
   "execution_count": 20,
   "id": "323294b9",
   "metadata": {},
   "outputs": [
    {
     "name": "stdout",
     "output_type": "stream",
     "text": [
      "171700\n"
     ]
    }
   ],
   "source": [
    "total=0\n",
    "for i in range(2,102,2):\n",
    "    total=total+i**2\n",
    "    \n",
    "print(total)"
   ]
  },
  {
   "cell_type": "code",
   "execution_count": 21,
   "id": "3bfa8560",
   "metadata": {},
   "outputs": [
    {
     "name": "stdout",
     "output_type": "stream",
     "text": [
      "2\n",
      "4\n",
      "6\n",
      "8\n",
      "10\n",
      "12\n",
      "14\n",
      "16\n",
      "18\n",
      "20\n",
      "22\n",
      "24\n",
      "26\n",
      "28\n",
      "30\n",
      "32\n",
      "34\n",
      "36\n",
      "38\n",
      "40\n",
      "42\n",
      "44\n",
      "46\n",
      "48\n",
      "50\n",
      "52\n",
      "54\n",
      "56\n",
      "58\n",
      "60\n",
      "62\n",
      "64\n",
      "66\n",
      "68\n",
      "70\n",
      "72\n",
      "74\n",
      "76\n",
      "78\n",
      "80\n",
      "82\n",
      "84\n",
      "86\n",
      "88\n",
      "90\n",
      "92\n",
      "94\n",
      "96\n",
      "98\n",
      "100\n"
     ]
    }
   ],
   "source": [
    "for i in range(2,102,2):\n",
    "    print(i)"
   ]
  },
  {
   "cell_type": "code",
   "execution_count": 24,
   "id": "eb9cf43a",
   "metadata": {},
   "outputs": [
    {
     "name": "stdout",
     "output_type": "stream",
     "text": [
      "2\n",
      "3\n",
      "4\n",
      "5\n",
      "6\n",
      "7\n",
      "8\n",
      "9\n"
     ]
    }
   ],
   "source": [
    "for i in range(2,10):\n",
    "    print(i)"
   ]
  },
  {
   "cell_type": "code",
   "execution_count": 27,
   "id": "1c22888e",
   "metadata": {},
   "outputs": [
    {
     "name": "stdout",
     "output_type": "stream",
     "text": [
      "8\n",
      "Prime Number\n",
      "Not Prime\n",
      "Prime Number\n",
      "Not Prime\n",
      "Not Prime\n",
      "Not Prime\n"
     ]
    }
   ],
   "source": [
    "num=int(input())\n",
    "\n",
    "for i in range(2,num):\n",
    "    if num%i==0:\n",
    "        print(\"Prime Number\")\n",
    "    else:\n",
    "        print(\"Not Prime\")\n",
    "        "
   ]
  },
  {
   "cell_type": "code",
   "execution_count": null,
   "id": "8bc5fc67",
   "metadata": {},
   "outputs": [],
   "source": []
  }
 ],
 "metadata": {
  "kernelspec": {
   "display_name": "Python 3 (ipykernel)",
   "language": "python",
   "name": "python3"
  },
  "language_info": {
   "codemirror_mode": {
    "name": "ipython",
    "version": 3
   },
   "file_extension": ".py",
   "mimetype": "text/x-python",
   "name": "python",
   "nbconvert_exporter": "python",
   "pygments_lexer": "ipython3",
   "version": "3.10.11"
  }
 },
 "nbformat": 4,
 "nbformat_minor": 5
}
